{
 "cells": [
  {
   "cell_type": "code",
   "execution_count": 112,
   "metadata": {},
   "outputs": [],
   "source": [
    "import pandas as pd\n",
    "import requests"
   ]
  },
  {
   "cell_type": "code",
   "execution_count": 113,
   "metadata": {},
   "outputs": [],
   "source": [
    "year = '2023-01-01'\n",
    "params = {\n",
    "    'page[size]': '100',\n",
    "    'page[number]': '1',\n",
    "    'filter': f'record_date:gte:{year}'\n",
    "}\n",
    "endpoint = '/v1/accounting/dts/deposits_withdrawals_operating_cash'\n",
    "base_url = 'https://api.fiscaldata.treasury.gov/services/api/fiscal_service'\n",
    "url = base_url + endpoint\n",
    "all_data = []"
   ]
  },
  {
   "cell_type": "code",
   "execution_count": null,
   "metadata": {},
   "outputs": [],
   "source": [
    "class Data:\n",
    "    def __init__(self, url: str, page_size: int, params=None) -> None:\n",
    "        self.all_data = []\n",
    "        self.url = url\n",
    "        self.params = params\n",
    "        self.page_size = page_size\n",
    "        self.last_accessed = None\n",
    "    \n",
    "    def page_size(self):\n",
    "        if self.params['page[size]'] == '100':\n",
    "            prompt = input('Do you know the maximum page size that the API allows? (y/n) ')\n",
    "            while prompt.lower() == 'y':\n",
    "                try:\n",
    "                    max_page_size = input('Enter the maximum page size (Hit enter to default 100): ')\n",
    "                    if max_page_size == '':\n",
    "                        break\n",
    "                    else:\n",
    "                        max_page_size = int(max_page_size)\n",
    "                    self.params['page[size]'] = str(max_page_size)\n",
    "                    prompt = 'n'\n",
    "                except:\n",
    "                    print('Invalid input. Try again.')\n",
    "    \n",
    "    def grab_data(self, all_data: list, url: str, params=None) -> pd.DataFrame:\n",
    "        previous_response_status_code = None\n",
    "        if params['page[size]'] == '100':\n",
    "            prompt = input('Do you know the maximum page size that the API allows? (y/n) ')\n",
    "            while prompt.lower() == 'y':\n",
    "                try:\n",
    "                    max_page_size = input('Enter the maximum page size (Hit enter to default 100): ')\n",
    "                    if max_page_size == '':\n",
    "                        break\n",
    "                    else:\n",
    "                        max_page_size = int(max_page_size)\n",
    "                    params['page[size]'] = str(max_page_size)\n",
    "                    prompt = 'n'\n",
    "                except:\n",
    "                    print('Invalid input. Try again.')\n",
    "        \n",
    "        while True:\n",
    "            response = requests.get(url, params=params)\n",
    "            \n",
    "            # if previous_response_status_code == None:\n",
    "            #     previous_response_status_code = response.status_code\n",
    "            \n",
    "            if response.status_code != 200 and previous_response_status_code != None:\n",
    "                if previous_response_status_code == 200:\n",
    "                    break\n",
    "                else:\n",
    "                    page_size = int(params['page[size]'])\n",
    "                    params['page[size]'] = str(page_size // 2)\n",
    "                    continue\n",
    "\n",
    "            \n",
    "            page_data = response.json().get('data', [])\n",
    "            \n",
    "            if not page_data:\n",
    "                break\n",
    "            \n",
    "            all_data.extend(page_data)\n",
    "            \n",
    "            previous_response_status_code = response.status_code\n",
    "            params['page[size]'] = str(int(params['page[size]']) * 10)\n",
    "            params['page[number]'] = str(int(params['page[number]']) + 1)\n",
    "        params['page[number]'] = '1'\n",
    "        \n",
    "        if all_data:\n",
    "            df = pd.DataFrame(all_data)\n",
    "            print(df.shape)\n",
    "        else:\n",
    "            print('No data found')\n",
    "\n",
    "        print(params['page[size]'])\n",
    "        return df"
   ]
  },
  {
   "cell_type": "code",
   "execution_count": 114,
   "metadata": {},
   "outputs": [],
   "source": [
    "def grab_data(all_data: list, url: str, params=None) -> pd.DataFrame:\n",
    "    previous_response_status_code = None\n",
    "    if params['page[size]'] == '100':\n",
    "        prompt = input('Do you know the maximum page size that the API allows? (y/n) ')\n",
    "        while prompt.lower() == 'y':\n",
    "            try:\n",
    "                max_page_size = input('Enter the maximum page size (Hit enter to default 100): ')\n",
    "                if max_page_size == '':\n",
    "                    break\n",
    "                else:\n",
    "                    max_page_size = int(max_page_size)\n",
    "                params['page[size]'] = str(max_page_size)\n",
    "                prompt = 'n'\n",
    "            except:\n",
    "                print('Invalid input. Try again.')\n",
    "    \n",
    "    while True:\n",
    "        response = requests.get(url, params=params)\n",
    "        \n",
    "        # if previous_response_status_code == None:\n",
    "        #     previous_response_status_code = response.status_code\n",
    "        \n",
    "        if response.status_code != 200 and previous_response_status_code != None:\n",
    "            if previous_response_status_code == 200:\n",
    "                break\n",
    "            else:\n",
    "                page_size = int(params['page[size]'])\n",
    "                params['page[size]'] = str(page_size // 2)\n",
    "                continue\n",
    "\n",
    "        \n",
    "        page_data = response.json().get('data', [])\n",
    "        \n",
    "        if not page_data:\n",
    "            break\n",
    "        \n",
    "        all_data.extend(page_data)\n",
    "        \n",
    "        previous_response_status_code = response.status_code\n",
    "        params['page[size]'] = str(int(params['page[size]']) * 10)\n",
    "        params['page[number]'] = str(int(params['page[number]']) + 1)\n",
    "    params['page[number]'] = '1'\n",
    "    \n",
    "    if all_data:\n",
    "        df = pd.DataFrame(all_data)\n",
    "        print(df.shape)\n",
    "    else:\n",
    "        print('No data found')\n",
    "\n",
    "    print(params['page[size]'])\n",
    "    return df\n",
    "\n",
    "def get_columns() -> list:\n",
    "    pass"
   ]
  },
  {
   "cell_type": "code",
   "execution_count": 115,
   "metadata": {},
   "outputs": [
    {
     "name": "stdout",
     "output_type": "stream",
     "text": [
      "(11100, 17)\n",
      "100000\n"
     ]
    }
   ],
   "source": [
    "df = grab_data(all_data, url, params)"
   ]
  },
  {
   "cell_type": "code",
   "execution_count": 116,
   "metadata": {},
   "outputs": [
    {
     "data": {
      "text/plain": [
       "Index(['record_date', 'account_type', 'transaction_type', 'transaction_catg',\n",
       "       'transaction_catg_desc', 'transaction_today_amt', 'transaction_mtd_amt',\n",
       "       'transaction_fytd_amt', 'table_nbr', 'table_nm', 'src_line_nbr',\n",
       "       'record_fiscal_year', 'record_fiscal_quarter', 'record_calendar_year',\n",
       "       'record_calendar_quarter', 'record_calendar_month',\n",
       "       'record_calendar_day'],\n",
       "      dtype='object')"
      ]
     },
     "execution_count": 116,
     "metadata": {},
     "output_type": "execute_result"
    }
   ],
   "source": [
    "df.columns"
   ]
  },
  {
   "cell_type": "code",
   "execution_count": 117,
   "metadata": {},
   "outputs": [
    {
     "name": "stdout",
     "output_type": "stream",
     "text": [
      "8903     410061\n",
      "10950    377954\n",
      "1447     370127\n",
      "10949    366368\n",
      "8801     345371\n",
      "          ...  \n",
      "6746        -17\n",
      "10934       -32\n",
      "4401        -50\n",
      "10309       -88\n",
      "68         -382\n",
      "Name: transaction_today_amt, Length: 11100, dtype: int64\n"
     ]
    }
   ],
   "source": [
    "df['transaction_today_amt'] = pd.to_numeric(df['transaction_today_amt'])\n",
    "df_sorted = df['transaction_today_amt'].sort_values(ascending=False)\n",
    "print(df_sorted)"
   ]
  },
  {
   "cell_type": "code",
   "execution_count": 118,
   "metadata": {},
   "outputs": [
    {
     "ename": "IndexError",
     "evalue": "single positional indexer is out-of-bounds",
     "output_type": "error",
     "traceback": [
      "\u001b[1;31m---------------------------------------------------------------------------\u001b[0m",
      "\u001b[1;31mIndexError\u001b[0m                                Traceback (most recent call last)",
      "Cell \u001b[1;32mIn[118], line 1\u001b[0m\n\u001b[1;32m----> 1\u001b[0m \u001b[43mdf\u001b[49m\u001b[38;5;241;43m.\u001b[39;49m\u001b[43miloc\u001b[49m\u001b[43m[\u001b[49m\u001b[38;5;241;43m75428\u001b[39;49m\u001b[43m]\u001b[49m\n",
      "File \u001b[1;32mc:\\dev\\school\\.env\\Lib\\site-packages\\pandas\\core\\indexing.py:1191\u001b[0m, in \u001b[0;36m_LocationIndexer.__getitem__\u001b[1;34m(self, key)\u001b[0m\n\u001b[0;32m   1189\u001b[0m maybe_callable \u001b[38;5;241m=\u001b[39m com\u001b[38;5;241m.\u001b[39mapply_if_callable(key, \u001b[38;5;28mself\u001b[39m\u001b[38;5;241m.\u001b[39mobj)\n\u001b[0;32m   1190\u001b[0m maybe_callable \u001b[38;5;241m=\u001b[39m \u001b[38;5;28mself\u001b[39m\u001b[38;5;241m.\u001b[39m_check_deprecated_callable_usage(key, maybe_callable)\n\u001b[1;32m-> 1191\u001b[0m \u001b[38;5;28;01mreturn\u001b[39;00m \u001b[38;5;28;43mself\u001b[39;49m\u001b[38;5;241;43m.\u001b[39;49m\u001b[43m_getitem_axis\u001b[49m\u001b[43m(\u001b[49m\u001b[43mmaybe_callable\u001b[49m\u001b[43m,\u001b[49m\u001b[43m \u001b[49m\u001b[43maxis\u001b[49m\u001b[38;5;241;43m=\u001b[39;49m\u001b[43maxis\u001b[49m\u001b[43m)\u001b[49m\n",
      "File \u001b[1;32mc:\\dev\\school\\.env\\Lib\\site-packages\\pandas\\core\\indexing.py:1752\u001b[0m, in \u001b[0;36m_iLocIndexer._getitem_axis\u001b[1;34m(self, key, axis)\u001b[0m\n\u001b[0;32m   1749\u001b[0m     \u001b[38;5;28;01mraise\u001b[39;00m \u001b[38;5;167;01mTypeError\u001b[39;00m(\u001b[38;5;124m\"\u001b[39m\u001b[38;5;124mCannot index by location index with a non-integer key\u001b[39m\u001b[38;5;124m\"\u001b[39m)\n\u001b[0;32m   1751\u001b[0m \u001b[38;5;66;03m# validate the location\u001b[39;00m\n\u001b[1;32m-> 1752\u001b[0m \u001b[38;5;28;43mself\u001b[39;49m\u001b[38;5;241;43m.\u001b[39;49m\u001b[43m_validate_integer\u001b[49m\u001b[43m(\u001b[49m\u001b[43mkey\u001b[49m\u001b[43m,\u001b[49m\u001b[43m \u001b[49m\u001b[43maxis\u001b[49m\u001b[43m)\u001b[49m\n\u001b[0;32m   1754\u001b[0m \u001b[38;5;28;01mreturn\u001b[39;00m \u001b[38;5;28mself\u001b[39m\u001b[38;5;241m.\u001b[39mobj\u001b[38;5;241m.\u001b[39m_ixs(key, axis\u001b[38;5;241m=\u001b[39maxis)\n",
      "File \u001b[1;32mc:\\dev\\school\\.env\\Lib\\site-packages\\pandas\\core\\indexing.py:1685\u001b[0m, in \u001b[0;36m_iLocIndexer._validate_integer\u001b[1;34m(self, key, axis)\u001b[0m\n\u001b[0;32m   1683\u001b[0m len_axis \u001b[38;5;241m=\u001b[39m \u001b[38;5;28mlen\u001b[39m(\u001b[38;5;28mself\u001b[39m\u001b[38;5;241m.\u001b[39mobj\u001b[38;5;241m.\u001b[39m_get_axis(axis))\n\u001b[0;32m   1684\u001b[0m \u001b[38;5;28;01mif\u001b[39;00m key \u001b[38;5;241m>\u001b[39m\u001b[38;5;241m=\u001b[39m len_axis \u001b[38;5;129;01mor\u001b[39;00m key \u001b[38;5;241m<\u001b[39m \u001b[38;5;241m-\u001b[39mlen_axis:\n\u001b[1;32m-> 1685\u001b[0m     \u001b[38;5;28;01mraise\u001b[39;00m \u001b[38;5;167;01mIndexError\u001b[39;00m(\u001b[38;5;124m\"\u001b[39m\u001b[38;5;124msingle positional indexer is out-of-bounds\u001b[39m\u001b[38;5;124m\"\u001b[39m)\n",
      "\u001b[1;31mIndexError\u001b[0m: single positional indexer is out-of-bounds"
     ]
    }
   ],
   "source": [
    "df.iloc[75428]"
   ]
  }
 ],
 "metadata": {
  "kernelspec": {
   "display_name": ".env",
   "language": "python",
   "name": "python3"
  },
  "language_info": {
   "codemirror_mode": {
    "name": "ipython",
    "version": 3
   },
   "file_extension": ".py",
   "mimetype": "text/x-python",
   "name": "python",
   "nbconvert_exporter": "python",
   "pygments_lexer": "ipython3",
   "version": "3.11.2"
  }
 },
 "nbformat": 4,
 "nbformat_minor": 2
}
