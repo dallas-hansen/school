{
 "cells": [
  {
   "cell_type": "code",
   "execution_count": 2,
   "metadata": {},
   "outputs": [],
   "source": [
    "\n",
    "import os\n",
    "import re\n",
    "import sys\n",
    "import requests\n",
    "import pandas as pd\n",
    "import matplotlib.pyplot as plt\n",
    "import plotly.express as px\n",
    "import xml.etree.ElementTree as ET\n",
    "from io import StringIO\n",
    "from datetime import datetime\n",
    "from dataclasses import dataclass, field\n",
    "\n",
    "parent_dir = os.path.abspath(os.path.join(os.getcwd(), os.pardir))\n",
    "sys.path.append(parent_dir)\n",
    "\n",
    "from functions.display import display"
   ]
  },
  {
   "cell_type": "code",
   "execution_count": 3,
   "metadata": {},
   "outputs": [],
   "source": [
    "year = '2023-01-01'\n",
    "params = {\n",
    "    'page[size]': '5000',\n",
    "    'page[number]': '1',\n",
    "    'filter': f'record_date:gte:{year}',\n",
    "    'format': 'csv'\n",
    "}\n",
    "endpoint = '/v1/accounting/dts/deposits_withdrawals_operating_cash'\n",
    "base_url = 'https://api.fiscaldata.treasury.gov/services/api/fiscal_service'\n",
    "url = base_url + endpoint"
   ]
  },
  {
   "cell_type": "code",
   "execution_count": 4,
   "metadata": {},
   "outputs": [],
   "source": [
    "@dataclass\n",
    "class Data:\n",
    "    url: str\n",
    "    rows: int = 0\n",
    "    df: pd.DataFrame = None\n",
    "    last_accessed: datetime = None\n",
    "    params: dict = field(default_factory=dict)\n",
    "    \n",
    "    def __post_init__(self):\n",
    "        \"\"\"\n",
    "        Initialize the sub_menu dictionary.\n",
    "        To add more menu options, create the function and add it to the sub_menu dictionary.\n",
    "        Follow the format shown below. Use nested dictionaries to create sub menus.\n",
    "        \"\"\"\n",
    "        self.sub_menu = {\n",
    "            \"Back\": 'back',\n",
    "            \"Search\": self.search,\n",
    "            \"Parameters\": {\n",
    "                \"Back\": 'back',\n",
    "                \"List parameters\": self.list_parameters,\n",
    "                \"Edit parameters\": self.edit_parameters\n",
    "            },\n",
    "            \"Data\": {\n",
    "                \"Back\": 'back',\n",
    "                \"View all\": self.view_data,\n",
    "                \"View size\": self.view_data_size\n",
    "            }\n",
    "        }\n",
    "    \n",
    "    def json_to_df(self, response) -> pd.DataFrame:\n",
    "        \"Takes JSON as input and adds it to the dataframe\"\n",
    "        \n",
    "        json_data = response.json().get('data', [])\n",
    "        df = pd.DataFrame(json_data)\n",
    "        self.df = pd.concat([self.df, df], ignore_index=True)\n",
    "    \n",
    "    def csv_to_df(self, response) -> pd.DataFrame:\n",
    "        \"Takes CSV as input and adds it to the dataframe\"\n",
    "        \n",
    "        df = pd.read_csv(StringIO(response.content.decode('utf-8')))\n",
    "        self.df = pd.concat([self.df, df], ignore_index=True)\n",
    "    \n",
    "    def xml_to_df(self, response) -> pd.DataFrame:\n",
    "        \"Takes XML as input and adds it to the dataframe\"\n",
    "        \n",
    "        root = ET.fromstring(response.content)\n",
    "        data = [{subchild.tag: subchild.text for subchild in child} for child in root]\n",
    "        df = pd.DataFrame(data)\n",
    "        self.df = pd.concat([self.df, df], ignore_index=True)\n",
    "    \n",
    "    def search(self) -> pd.DataFrame:\n",
    "        \"\"\"\n",
    "        Fetches all data from the API by handling pagination (The amount of data returned at one time).\n",
    "        \"\"\"\n",
    "        while True:\n",
    "            # Make the request to the API\n",
    "            params = {k: v for k, v in self.params.items() if v is not None}\n",
    "            response = requests.get(self.url, params=params)\n",
    "\n",
    "            # Check if the request was successful\n",
    "            if response.status_code != 200:\n",
    "                break\n",
    "            \n",
    "            # Finds out if the content type is JSON, CSV, or XML\n",
    "            content_type = response.headers.get('Content-Type').split(';')[0].strip().split('/')[1]\n",
    "            \n",
    "            match content_type:\n",
    "                case 'json':\n",
    "                    self.json_to_df(response)\n",
    "                case 'csv':\n",
    "                    self.csv_to_df(response)\n",
    "                case 'xml':\n",
    "                    self.xml_to_df(response)\n",
    "                case _:\n",
    "                    print(f'Unknown content type: {content_type}')\n",
    "            \n",
    "            print(f'Total entries so far({content_type}): {len(self.df)}')\n",
    "\n",
    "            # Increment the page number for the next request\n",
    "            self.params['page[number]'] = str(int(self.params['page[number]']) + 1)\n",
    "\n",
    "        self.rows = len(self.df)\n",
    "        self.last_accessed = datetime.now()\n",
    "\n",
    "        return\n",
    "    \n",
    "    def list_parameters(self):\n",
    "        for item in self.params:\n",
    "            print(item)\n",
    "    \n",
    "    def edit_parameters(self, params):\n",
    "        choice = display(params)\n",
    "        self.params = params\n",
    "    \n",
    "    def view_data_size(self):\n",
    "        print(f'Total entries in dataset: {self.rows}')\n",
    "    \n",
    "    def view_data(self):\n",
    "        print(self.df.describe())"
   ]
  },
  {
   "cell_type": "code",
   "execution_count": 5,
   "metadata": {},
   "outputs": [
    {
     "name": "stdout",
     "output_type": "stream",
     "text": [
      "\n",
      "Choose an option:\n",
      "1. Back      \n",
      "2. Search    \n",
      "3. Parameters\n",
      "4. Data      \n",
      "Total entries so far(csv): 5000\n",
      "Total entries so far(csv): 10000\n",
      "Total entries so far(csv): 15000\n",
      "Total entries so far(csv): 20000\n",
      "Total entries so far(csv): 25000\n",
      "Total entries so far(csv): 30000\n",
      "Total entries so far(csv): 35000\n",
      "Total entries so far(csv): 40000\n",
      "Total entries so far(csv): 45000\n",
      "Total entries so far(csv): 50000\n",
      "Total entries so far(csv): 55000\n",
      "Total entries so far(csv): 60000\n",
      "Total entries so far(csv): 65000\n",
      "Total entries so far(csv): 70000\n",
      "Total entries so far(csv): 75000\n",
      "Total entries so far(csv): 80000\n",
      "Total entries so far(csv): 85000\n",
      "Total entries so far(csv): 87205\n",
      "\n",
      "Choose an option:\n",
      "1. Back      \n",
      "2. Search    \n",
      "3. Parameters\n",
      "4. Data      \n"
     ]
    },
    {
     "data": {
      "text/plain": [
       "'Back'"
      ]
     },
     "execution_count": 5,
     "metadata": {},
     "output_type": "execute_result"
    }
   ],
   "source": [
    "data = Data(url=url, params=params)\n",
    "display(data.sub_menu)"
   ]
  },
  {
   "cell_type": "code",
   "execution_count": 6,
   "metadata": {},
   "outputs": [],
   "source": [
    "data_list = list(data.df['transaction_catg'].dropna().unique())\n",
    "departments = {}\n",
    "for i in data_list:\n",
    "    try:\n",
    "        if ' - ' in i:  # Only split if ' - ' is present\n",
    "            code, name = i.split(' - ', maxsplit=1)\n",
    "            \n",
    "            # Check if code is actually in parenthesis\n",
    "            match = re.search(r'\\((.*?)\\)', code)\n",
    "            cleaned_text = re.sub(r'\\s*\\(.*\\)', '', code)\n",
    "\n",
    "            if match:\n",
    "                code = match.group(1)\n",
    "                name = cleaned_text\n",
    "                \n",
    "            if code in departments:\n",
    "                departments[code].append(i)\n",
    "            else:\n",
    "                departments[code] = [i]\n",
    "    except ValueError:\n",
    "        print(f'Value Error: {i}')"
   ]
  },
  {
   "cell_type": "code",
   "execution_count": 7,
   "metadata": {},
   "outputs": [
    {
     "name": "stdout",
     "output_type": "stream",
     "text": [
      "dict_keys(['USDA', 'HHS', 'DHS', 'HUD', 'DOI', 'DOL', 'TREAS', 'FCC', 'Independent Agencies', 'IAP', 'Judicial Branch', 'Legislative Branch', 'OPM', 'RRB', 'SSA', 'Unclassified', 'DOT', 'ESF', 'VA', 'Taxes', 'DoD'])\n"
     ]
    }
   ],
   "source": [
    "print(departments.keys())\n",
    "# for i in departments:\n",
    "#     print(i)"
   ]
  },
  {
   "cell_type": "code",
   "execution_count": 8,
   "metadata": {},
   "outputs": [
    {
     "data": {
      "text/plain": [
       "Index(['record_date', 'account_type', 'transaction_type', 'transaction_catg',\n",
       "       'transaction_catg_desc', 'transaction_today_amt', 'transaction_mtd_amt',\n",
       "       'transaction_fytd_amt', 'table_nbr', 'table_nm', 'src_line_nbr',\n",
       "       'record_fiscal_year', 'record_fiscal_quarter', 'record_calendar_year',\n",
       "       'record_calendar_quarter', 'record_calendar_month',\n",
       "       'record_calendar_day'],\n",
       "      dtype='object')"
      ]
     },
     "execution_count": 8,
     "metadata": {},
     "output_type": "execute_result"
    }
   ],
   "source": [
    "data.df.columns"
   ]
  },
  {
   "cell_type": "code",
   "execution_count": 9,
   "metadata": {},
   "outputs": [],
   "source": [
    "df = data.df.dropna(subset=['transaction_catg'])\n",
    "remove = [\n",
    "    'Sub-Total Deposits',\n",
    "    'Sub-Total Withdrawals',\n",
    "    'Public Debt Cash Issues (Table IIIB)',\n",
    "    'Public Debt Cash Redemp. (Table IIIB)'\n",
    "    ]\n",
    "df = df[~df['transaction_catg'].isin(remove)]"
   ]
  },
  {
   "cell_type": "code",
   "execution_count": 10,
   "metadata": {},
   "outputs": [],
   "source": [
    "# Create a mapping of sub-departments to parent departments\n",
    "sub_to_parent = {sub: parent for parent, sub_departments in departments.items() for sub in sub_departments}\n",
    "\n",
    "# Add a new column for parent departments\n",
    "df['parent_department'] = df['transaction_catg'].map(sub_to_parent)"
   ]
  },
  {
   "cell_type": "code",
   "execution_count": 11,
   "metadata": {},
   "outputs": [
    {
     "data": {
      "image/png": "[encoded data removed]",
      "text/plain": [
       "<Figure size 1000x600 with 1 Axes>"
      ]
     },
     "metadata": {},
     "output_type": "display_data"
    }
   ],
   "source": [
    "# Map transaction type to colors\n",
    "color_mapping = {'Deposits': 'green', 'Withdrawals': 'red'}\n",
    "df['color'] = df['transaction_type'].map(color_mapping).fillna('gray')\n",
    "\n",
    "# Group by parent department and sum the amounts\n",
    "grouped_df = df.groupby(['parent_department', 'transaction_type'], as_index=False)['transaction_today_amt'].sum()\n",
    "\n",
    "# Assign colors for the grouped data\n",
    "grouped_df['color'] = grouped_df['transaction_type'].map(color_mapping)\n",
    "\n",
    "# Plot the results\n",
    "plt.figure(figsize=(10, 6))\n",
    "plt.bar(grouped_df['parent_department'], grouped_df['transaction_today_amt'], color=grouped_df['color'])\n",
    "plt.xlabel('Parent Department')\n",
    "plt.ylabel('Total FYTD Amount')\n",
    "plt.title('Total FYTD Amount by Parent Department')\n",
    "plt.xticks(rotation=45, ha='right')\n",
    "plt.tight_layout()\n",
    "plt.show()\n"
   ]
  },
  {
   "cell_type": "code",
   "execution_count": 16,
   "metadata": {},
   "outputs": [
    {
     "data": {
      "text/plain": [
       "0                 Cash FTD's Received (Table IV)\n",
       "1              Dept of Agriculture (USDA) - misc\n",
       "2            USDA - Commodity Credit Corporation\n",
       "3        USDA - Federal Crop Insurance Corp Fund\n",
       "4                         USDA - Loan Repayments\n",
       "                          ...                   \n",
       "87198                    SSA - Benefits Payments\n",
       "87199         SSA - Supplemental Security Income\n",
       "87200        United States Postal Service (USPS)\n",
       "87201                 US Army Corps of Engineers\n",
       "87202                               Unclassified\n",
       "Name: transaction_catg, Length: 84893, dtype: object"
      ]
     },
     "execution_count": 16,
     "metadata": {},
     "output_type": "execute_result"
    }
   ],
   "source": [
    "df['transaction_catg']"
   ]
  },
  {
   "cell_type": "code",
   "execution_count": 17,
   "metadata": {},
   "outputs": [
    {
     "data": {
      "text/plain": [
       "0                      DHS\n",
       "1                      DHS\n",
       "2                      DOI\n",
       "3                      DOI\n",
       "4                      DOL\n",
       "5                      DOL\n",
       "6                      DOT\n",
       "7                      DoD\n",
       "8                      DoD\n",
       "9                      ESF\n",
       "10                     FCC\n",
       "11                     FCC\n",
       "12                     HHS\n",
       "13                     HHS\n",
       "14                     HUD\n",
       "15                     HUD\n",
       "16                     IAP\n",
       "17                     IAP\n",
       "18    Independent Agencies\n",
       "19    Independent Agencies\n",
       "20         Judicial Branch\n",
       "21         Judicial Branch\n",
       "22      Legislative Branch\n",
       "23      Legislative Branch\n",
       "24                     OPM\n",
       "25                     OPM\n",
       "26                     RRB\n",
       "27                     RRB\n",
       "28                     SSA\n",
       "29                     SSA\n",
       "30                   TREAS\n",
       "31                   TREAS\n",
       "32                   Taxes\n",
       "33                   Taxes\n",
       "34                    USDA\n",
       "35                    USDA\n",
       "36            Unclassified\n",
       "37                      VA\n",
       "Name: parent_department, dtype: object"
      ]
     },
     "execution_count": 17,
     "metadata": {},
     "output_type": "execute_result"
    }
   ],
   "source": [
    "grouped_df['parent_department']"
   ]
  },
  {
   "cell_type": "code",
   "execution_count": 13,
   "metadata": {},
   "outputs": [],
   "source": [
    "# plt.bar(x=df['transaction_catg'], height=df['transaction_today_amt'])\n",
    "# plt.xlabel('Transaction Category', fontsize=1)\n",
    "# plt.ylabel('Amount', fontsize=1)\n",
    "# plt.show()\n"
   ]
  }
 ],
 "metadata": {
  "kernelspec": {
   "display_name": ".env",
   "language": "python",
   "name": "python3"
  },
  "language_info": {
   "codemirror_mode": {
    "name": "ipython",
    "version": 3
   },
   "file_extension": ".py",
   "mimetype": "text/x-python",
   "name": "python",
   "nbconvert_exporter": "python",
   "pygments_lexer": "ipython3",
   "version": "3.11.5"
  }
 },
 "nbformat": 4,
 "nbformat_minor": 2
}
