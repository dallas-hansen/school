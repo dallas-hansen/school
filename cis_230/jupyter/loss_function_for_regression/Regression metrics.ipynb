{
 "cells": [
  {
   "cell_type": "code",
   "execution_count": 1,
   "id": "7b6efd53-374d-410a-961e-aba7e7e62ca4",
   "metadata": {
    "execution": {
     "iopub.execute_input": "2023-11-02T15:29:57.404284Z",
     "iopub.status.busy": "2023-11-02T15:29:57.403945Z",
     "iopub.status.idle": "2023-11-02T15:29:58.183584Z",
     "shell.execute_reply": "2023-11-02T15:29:58.183291Z"
    }
   },
   "outputs": [],
   "source": [
    "# Import packages\n",
    "import pandas as pd\n",
    "import numpy as np\n",
    "from sklearn import metrics\n",
    "import matplotlib.pyplot as plt\n",
    "from sklearn.linear_model import LinearRegression\n",
    "from sklearn.preprocessing import PolynomialFeatures\n",
    "from sklearn.model_selection import train_test_split"
   ]
  },
  {
   "cell_type": "code",
   "execution_count": 2,
   "id": "f07051e1-e030-4c45-86bf-273715b0f8e9",
   "metadata": {
    "execution": {
     "iopub.execute_input": "2023-11-02T15:29:58.185335Z",
     "iopub.status.busy": "2023-11-02T15:29:58.185204Z",
     "iopub.status.idle": "2023-11-02T15:29:58.188034Z",
     "shell.execute_reply": "2023-11-02T15:29:58.187790Z"
    }
   },
   "outputs": [],
   "source": [
    "# Load tortoise data\n",
    "tortoise = pd.read_csv(\"Tortoises.csv\")"
   ]
  },
  {
   "cell_type": "code",
   "execution_count": 3,
   "id": "61234470-8ac0-4af2-8f71-2814078346d6",
   "metadata": {
    "execution": {
     "iopub.execute_input": "2023-11-02T15:29:58.189511Z",
     "iopub.status.busy": "2023-11-02T15:29:58.189432Z",
     "iopub.status.idle": "2023-11-02T15:29:58.191235Z",
     "shell.execute_reply": "2023-11-02T15:29:58.191020Z"
    }
   },
   "outputs": [],
   "source": [
    "# Store relevant columns as variables\n",
    "X = tortoise[\"Length\"]\n",
    "y = tortoise[\"Clutch\"]"
   ]
  },
  {
   "cell_type": "code",
   "execution_count": 4,
   "id": "7f52034f-f306-40a3-bf94-74b1bbba70b4",
   "metadata": {
    "execution": {
     "iopub.execute_input": "2023-11-02T15:29:58.192599Z",
     "iopub.status.busy": "2023-11-02T15:29:58.192517Z",
     "iopub.status.idle": "2023-11-02T15:29:58.194568Z",
     "shell.execute_reply": "2023-11-02T15:29:58.194350Z"
    }
   },
   "outputs": [],
   "source": [
    "# Split data into train and test sets\n",
    "X_train, X_test, y_train, y_test = train_test_split(\n",
    "    X, y, test_size=0.3, random_state=123\n",
    ")"
   ]
  },
  {
   "cell_type": "code",
   "execution_count": 5,
   "id": "880988a2-5966-43b8-b977-ee328bb717c8",
   "metadata": {
    "execution": {
     "iopub.execute_input": "2023-11-02T15:29:58.195958Z",
     "iopub.status.busy": "2023-11-02T15:29:58.195887Z",
     "iopub.status.idle": "2023-11-02T15:29:58.198235Z",
     "shell.execute_reply": "2023-11-02T15:29:58.198021Z"
    }
   },
   "outputs": [],
   "source": [
    "# Create a linear model using the training set and predictions using the test set\n",
    "X_test = np.asarray(X_test)\n",
    "y_test = np.asarray(y_test)\n",
    "linModel = LinearRegression()\n",
    "linModel.fit(X_train.values.reshape(-1, 1), y_train.values.reshape(-1, 1))\n",
    "y_pred = np.ravel(linModel.predict(X_test.reshape(-1, 1)))"
   ]
  },
  {
   "cell_type": "code",
   "execution_count": 6,
   "id": "051523af-8fc3-487c-b7b6-1a75ead62904",
   "metadata": {
    "execution": {
     "iopub.execute_input": "2023-11-02T15:29:58.199609Z",
     "iopub.status.busy": "2023-11-02T15:29:58.199526Z",
     "iopub.status.idle": "2023-11-02T15:29:58.251725Z",
     "shell.execute_reply": "2023-11-02T15:29:58.251450Z"
    }
   },
   "outputs": [
    {
     "data": {
      "image/png": "[encoded data removed]",
      "text/plain": [
       "<Figure size 640x480 with 1 Axes>"
      ]
     },
     "metadata": {},
     "output_type": "display_data"
    }
   ],
   "source": [
    "# Display linear model and scatter plot of the test set\n",
    "plt.scatter(X_test, y_test)\n",
    "plt.xlabel(\"Length (mm)\", fontsize=14)\n",
    "plt.ylabel(\"Clutch size\", fontsize=14)\n",
    "plt.plot(X_test, y_pred, color='red')\n",
    "plt.ylim([0, 14])\n",
    "for i in range(5):\n",
    "    plt.plot([X_test[i], X_test[i]], [y_test[i], y_pred[i]], color='grey', linewidth=2)"
   ]
  },
  {
   "cell_type": "code",
   "execution_count": 7,
   "id": "c70b4de8-2964-4d1d-9c8a-67e27f064c28",
   "metadata": {
    "execution": {
     "iopub.execute_input": "2023-11-02T15:29:58.253219Z",
     "iopub.status.busy": "2023-11-02T15:29:58.253112Z",
     "iopub.status.idle": "2023-11-02T15:29:58.256836Z",
     "shell.execute_reply": "2023-11-02T15:29:58.256564Z"
    }
   },
   "outputs": [
    {
     "data": {
      "text/plain": [
       "np.float64(13.769920706476412)"
      ]
     },
     "execution_count": 7,
     "metadata": {},
     "output_type": "execute_result"
    }
   ],
   "source": [
    "# Display MSE\n",
    "metrics.mean_squared_error(y_test, y_pred)"
   ]
  },
  {
   "cell_type": "code",
   "execution_count": 8,
   "id": "bd671842-623e-472f-85c0-dfa8006064b6",
   "metadata": {
    "execution": {
     "iopub.execute_input": "2023-11-02T15:29:58.258150Z",
     "iopub.status.busy": "2023-11-02T15:29:58.258067Z",
     "iopub.status.idle": "2023-11-02T15:29:58.263096Z",
     "shell.execute_reply": "2023-11-02T15:29:58.262848Z"
    }
   },
   "outputs": [
    {
     "name": "stderr",
     "output_type": "stream",
     "text": [
      "c:\\dev_laptop\\school\\.env\\Lib\\site-packages\\sklearn\\metrics\\_regression.py:492: FutureWarning: 'squared' is deprecated in version 1.4 and will be removed in 1.6. To calculate the root mean squared error, use the function'root_mean_squared_error'.\n",
      "  warnings.warn(\n"
     ]
    },
    {
     "data": {
      "text/plain": [
       "np.float64(3.7107843788714554)"
      ]
     },
     "execution_count": 8,
     "metadata": {},
     "output_type": "execute_result"
    }
   ],
   "source": [
    "# Display RMSE\n",
    "metrics.mean_squared_error(y_test, y_pred, squared=False)"
   ]
  },
  {
   "cell_type": "code",
   "execution_count": 9,
   "id": "d5e0eec6-5fd4-494e-81af-57fcdeb7d09d",
   "metadata": {
    "execution": {
     "iopub.execute_input": "2023-11-02T15:29:58.264464Z",
     "iopub.status.busy": "2023-11-02T15:29:58.264365Z",
     "iopub.status.idle": "2023-11-02T15:29:58.266583Z",
     "shell.execute_reply": "2023-11-02T15:29:58.266343Z"
    }
   },
   "outputs": [
    {
     "data": {
      "text/plain": [
       "np.float64(3.132264529058116)"
      ]
     },
     "execution_count": 9,
     "metadata": {},
     "output_type": "execute_result"
    }
   ],
   "source": [
    "# Display MAE\n",
    "metrics.mean_absolute_error(y_test, y_pred)"
   ]
  },
  {
   "cell_type": "code",
   "execution_count": 10,
   "id": "763f7b1e-c473-4114-bb5c-6d4f1d378ee7",
   "metadata": {
    "execution": {
     "iopub.execute_input": "2023-11-02T15:29:58.267974Z",
     "iopub.status.busy": "2023-11-02T15:29:58.267865Z",
     "iopub.status.idle": "2023-11-02T15:29:58.270384Z",
     "shell.execute_reply": "2023-11-02T15:29:58.270154Z"
    }
   },
   "outputs": [],
   "source": [
    "# Create a quadratic model using the training set and predictions using the test set\n",
    "X_train = np.asarray(X_train)\n",
    "y_train = np.asarray(y_train)\n",
    "poly = PolynomialFeatures().fit_transform(X_train.reshape(-1, 1))\n",
    "poly_reg_model = LinearRegression().fit(poly, y_train)\n",
    "poly_test = PolynomialFeatures().fit_transform(X_test.reshape(-1, 1))\n",
    "y_pred = poly_reg_model.predict(poly_test)"
   ]
  },
  {
   "cell_type": "code",
   "execution_count": 11,
   "id": "2b1eea41-49dd-4d2c-99fc-298a58705048",
   "metadata": {
    "execution": {
     "iopub.execute_input": "2023-11-02T15:29:58.271747Z",
     "iopub.status.busy": "2023-11-02T15:29:58.271643Z",
     "iopub.status.idle": "2023-11-02T15:29:58.341036Z",
     "shell.execute_reply": "2023-11-02T15:29:58.340755Z"
    }
   },
   "outputs": [
    {
     "data": {
      "image/png": "[encoded data removed]",
      "text/plain": [
       "<Figure size 640x480 with 1 Axes>"
      ]
     },
     "metadata": {},
     "output_type": "display_data"
    }
   ],
   "source": [
    "# Display quadratic model and scatter plot of the test set\n",
    "plt.scatter(X_test, y_test)\n",
    "plt.xlabel(\"Length (mm)\", fontsize=14)\n",
    "plt.ylabel(\"Clutch size\", fontsize=14)\n",
    "x = np.linspace(X_test.min(), X_test.max(), 100)\n",
    "y = (\n",
    "    poly_reg_model.coef_[2] * x**2\n",
    "    + poly_reg_model.coef_[1] * x\n",
    "    + poly_reg_model.intercept_\n",
    ")\n",
    "plt.plot(x, y, color='red', linewidth=2)\n",
    "plt.ylim([0, 14])\n",
    "for i in range(5):\n",
    "    plt.plot([X_test[i], X_test[i]], [y_test[i], y_pred[i]], color='grey', linewidth=2)"
   ]
  },
  {
   "cell_type": "code",
   "execution_count": 12,
   "id": "09613ce6-0460-4a85-96ad-915b26ff3176",
   "metadata": {
    "execution": {
     "iopub.execute_input": "2023-11-02T15:29:58.342554Z",
     "iopub.status.busy": "2023-11-02T15:29:58.342471Z",
     "iopub.status.idle": "2023-11-02T15:29:58.346519Z",
     "shell.execute_reply": "2023-11-02T15:29:58.346265Z"
    }
   },
   "outputs": [
    {
     "data": {
      "text/plain": [
       "np.float64(7.905956918567654)"
      ]
     },
     "execution_count": 12,
     "metadata": {},
     "output_type": "execute_result"
    }
   ],
   "source": [
    "# Display MSE\n",
    "metrics.mean_squared_error(y_test, y_pred)"
   ]
  },
  {
   "cell_type": "code",
   "execution_count": 13,
   "id": "f76eace3-36d8-4901-9c21-6069c23a0aa9",
   "metadata": {
    "execution": {
     "iopub.execute_input": "2023-11-02T15:29:58.347967Z",
     "iopub.status.busy": "2023-11-02T15:29:58.347867Z",
     "iopub.status.idle": "2023-11-02T15:29:58.353002Z",
     "shell.execute_reply": "2023-11-02T15:29:58.352737Z"
    }
   },
   "outputs": [
    {
     "name": "stderr",
     "output_type": "stream",
     "text": [
      "c:\\dev_laptop\\school\\.env\\Lib\\site-packages\\sklearn\\metrics\\_regression.py:492: FutureWarning: 'squared' is deprecated in version 1.4 and will be removed in 1.6. To calculate the root mean squared error, use the function'root_mean_squared_error'.\n",
      "  warnings.warn(\n"
     ]
    },
    {
     "data": {
      "text/plain": [
       "np.float64(2.8117533530819614)"
      ]
     },
     "execution_count": 13,
     "metadata": {},
     "output_type": "execute_result"
    }
   ],
   "source": [
    "# Display RMSE\n",
    "metrics.mean_squared_error(y_test, y_pred, squared=False)"
   ]
  },
  {
   "cell_type": "code",
   "execution_count": 14,
   "id": "c707018f-6f5f-449f-909c-18c4593d7e7f",
   "metadata": {
    "execution": {
     "iopub.execute_input": "2023-11-02T15:29:58.354360Z",
     "iopub.status.busy": "2023-11-02T15:29:58.354279Z",
     "iopub.status.idle": "2023-11-02T15:29:58.357837Z",
     "shell.execute_reply": "2023-11-02T15:29:58.357600Z"
    }
   },
   "outputs": [
    {
     "data": {
      "text/plain": [
       "np.float64(2.686033237523683)"
      ]
     },
     "execution_count": 14,
     "metadata": {},
     "output_type": "execute_result"
    }
   ],
   "source": [
    "# Display MAE\n",
    "metrics.mean_absolute_error(y_test, y_pred)"
   ]
  }
 ],
 "metadata": {
  "kernelspec": {
   "display_name": ".env",
   "language": "python",
   "name": "python3"
  },
  "language_info": {
   "codemirror_mode": {
    "name": "ipython",
    "version": 3
   },
   "file_extension": ".py",
   "mimetype": "text/x-python",
   "name": "python",
   "nbconvert_exporter": "python",
   "pygments_lexer": "ipython3",
   "version": "3.11.5"
  },
  "widgets": {
   "application/vnd.jupyter.widget-state+json": {
    "state": {},
    "version_major": 2,
    "version_minor": 0
   }
  }
 },
 "nbformat": 4,
 "nbformat_minor": 5
}
