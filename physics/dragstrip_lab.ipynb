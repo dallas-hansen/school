{
 "cells": [
  {
   "cell_type": "markdown",
   "metadata": {},
   "source": [
    "# Drag Strip Lab"
   ]
  },
  {
   "cell_type": "code",
   "execution_count": 10,
   "metadata": {},
   "outputs": [],
   "source": [
    "import pandas as pd\n",
    "import numpy as np\n",
    "import matplotlib.pyplot as plt\n",
    "import seaborn as sns\n",
    "from kinematics import Kinematic"
   ]
  },
  {
   "cell_type": "code",
   "execution_count": 11,
   "metadata": {},
   "outputs": [],
   "source": [
    "df = pd.read_csv('drag_lab.csv')"
   ]
  },
  {
   "cell_type": "markdown",
   "metadata": {},
   "source": [
    "## Coefficient of Friction Calculation"
   ]
  },
  {
   "cell_type": "code",
   "execution_count": 12,
   "metadata": {},
   "outputs": [
    {
     "name": "stdout",
     "output_type": "stream",
     "text": [
      "Acceleration: 0.11488068582914443\n",
      "Average time: 4.172453333333333\n",
      "\tStandard Deviation: 0.15481707277619125\n"
     ]
    }
   ],
   "source": [
    "# Constants\n",
    "gravity = 9.81\n",
    "\n",
    "# Masses\n",
    "cart_mass = 1.0813\n",
    "weight_on_cart = 2.199\n",
    "mass_1 = cart_mass + weight_on_cart # Total cart mass\n",
    "mass_2 = .05 # Mass on pully\n",
    "\n",
    "# Lengths\n",
    "displacement = 1 # meters\n",
    "\n",
    "# Time\n",
    "average_time = df['time'].mean()\n",
    "\n",
    "# Acceleration\n",
    "acceleration = Kinematic.a__displacement_v0_t(displacement, 0, average_time)\n",
    "\n",
    "print(f'Acceleration: {acceleration}')\n",
    "print(f'Average time: {average_time}')\n",
    "print(f'\\tStandard Deviation: {df[\"time\"].std()}')"
   ]
  },
  {
   "cell_type": "code",
   "execution_count": 13,
   "metadata": {},
   "outputs": [
    {
     "name": "stdout",
     "output_type": "stream",
     "text": [
      "Coefficient of friction: 0.0033534404542385704\n",
      "Acceleration with friction: 0.11488068582914443\n"
     ]
    }
   ],
   "source": [
    "# Coefficient of friction\n",
    "coefficient_of_friction = \\\n",
    "    (mass_2 * gravity - mass_2 * acceleration - mass_1 * acceleration) / \\\n",
    "        (mass_1 * gravity)\n",
    "\n",
    "def acceleration_with_friction(mass_1, mass_2, coefficient_of_friction):\n",
    "    gravity = 9.81\n",
    "    return (coefficient_of_friction * mass_1 * gravity - mass_2 * gravity + mass_2 * acceleration) / \\\n",
    "        (-mass_1)\n",
    "# Acceleration with friction\n",
    "accel = acceleration_with_friction(mass_1, mass_2, coefficient_of_friction)\n",
    "        \n",
    "print(f'Coefficient of friction: {coefficient_of_friction}')\n",
    "print(f'Acceleration with friction: {accel}')"
   ]
  },
  {
   "cell_type": "markdown",
   "metadata": {},
   "source": [
    "## Prediction"
   ]
  },
  {
   "cell_type": "code",
   "execution_count": 14,
   "metadata": {},
   "outputs": [
    {
     "name": "stdout",
     "output_type": "stream",
     "text": [
      "0.22693805578046347\n"
     ]
    }
   ],
   "source": [
    "test = acceleration_with_friction(3.35813, 0.09, coefficient_of_friction)\n",
    "print(test)"
   ]
  },
  {
   "cell_type": "code",
   "execution_count": 15,
   "metadata": {},
   "outputs": [
    {
     "name": "stdout",
     "output_type": "stream",
     "text": [
      "Predicted time: 2.9686659614026025\n"
     ]
    }
   ],
   "source": [
    "pred_time = Kinematic.t__displacement_v0_a(displacement, 0, test)\n",
    "print(f'Predicted time: {pred_time}')"
   ]
  }
 ],
 "metadata": {
  "kernelspec": {
   "display_name": ".env",
   "language": "python",
   "name": "python3"
  },
  "language_info": {
   "codemirror_mode": {
    "name": "ipython",
    "version": 3
   },
   "file_extension": ".py",
   "mimetype": "text/x-python",
   "name": "python",
   "nbconvert_exporter": "python",
   "pygments_lexer": "ipython3",
   "version": "3.11.5"
  }
 },
 "nbformat": 4,
 "nbformat_minor": 2
}
