{
 "cells": [
  {
   "cell_type": "markdown",
   "metadata": {},
   "source": [
    "# Drag Strip Lab"
   ]
  },
  {
   "cell_type": "code",
   "execution_count": 19,
   "metadata": {},
   "outputs": [],
   "source": [
    "import pandas as pd\n",
    "import numpy as np\n",
    "import matplotlib.pyplot as plt\n",
    "import seaborn as sns\n",
    "from kinematics import Kinematic\n",
    "from uncertainties import ufloat\n",
    "from uncertainties.umath import *"
   ]
  },
  {
   "cell_type": "code",
   "execution_count": 20,
   "metadata": {},
   "outputs": [],
   "source": [
    "# Read in the data\n",
    "df = pd.read_csv('drag_lab.csv')"
   ]
  },
  {
   "cell_type": "markdown",
   "metadata": {},
   "source": [
    "## Uncertainty"
   ]
  },
  {
   "cell_type": "code",
   "execution_count": 21,
   "metadata": {},
   "outputs": [],
   "source": [
    "# Measuring devices and their uncertainties\n",
    "meter_stick = 1e-3\n",
    "scale = 5e-5\n",
    "photogate = 5e-5"
   ]
  },
  {
   "cell_type": "markdown",
   "metadata": {},
   "source": [
    "## Coefficient of Friction Calculation"
   ]
  },
  {
   "cell_type": "code",
   "execution_count": 22,
   "metadata": {},
   "outputs": [
    {
     "name": "stdout",
     "output_type": "stream",
     "text": [
      "Acceleration: 0.11488+/-0.00011\n",
      "Average time: 4.17245+/-0.00005\n",
      "\tStandard Deviation: 0.15481707277619125\n"
     ]
    }
   ],
   "source": [
    "# Constants\n",
    "gravity = 9.81\n",
    "\n",
    "# Masses\n",
    "cart_mass = ufloat(1.0813, scale)\n",
    "weight_on_cart = ufloat(2.199, scale)\n",
    "mass_1 = cart_mass + weight_on_cart # Total cart mass\n",
    "mass_2 = ufloat(.05, scale) # Mass on pully\n",
    "\n",
    "# Lengths\n",
    "displacement = ufloat(1, meter_stick) # meters\n",
    "\n",
    "# Time\n",
    "average_time = ufloat(df['time'].mean(), photogate)\n",
    "\n",
    "# Acceleration\n",
    "acceleration = Kinematic.a__displacement_v0_t(displacement, 0, average_time)\n",
    "\n",
    "print(f'Acceleration: {acceleration}')\n",
    "print(f'Average time: {average_time}')\n",
    "print(f'\\tStandard Deviation: {df[\"time\"].std()}')"
   ]
  },
  {
   "cell_type": "code",
   "execution_count": 23,
   "metadata": {},
   "outputs": [
    {
     "name": "stdout",
     "output_type": "stream",
     "text": [
      "Coefficient of friction: 0.003353+/-0.000019\n",
      "Acceleration with friction: 0.11488+/-0.00011\n"
     ]
    }
   ],
   "source": [
    "# Coefficient of friction\n",
    "coefficient_of_friction = \\\n",
    "    (mass_2 * gravity - mass_2 * acceleration - mass_1 * acceleration) / \\\n",
    "        (mass_1 * gravity)\n",
    "\n",
    "def acceleration_with_friction(mass_1, mass_2, coefficient_of_friction):\n",
    "    gravity = 9.81\n",
    "    return (coefficient_of_friction * mass_1 * gravity - mass_2 * gravity) / \\\n",
    "        (-mass_2 - mass_1)\n",
    "# Acceleration with friction\n",
    "accel = acceleration_with_friction(mass_1, mass_2, coefficient_of_friction)\n",
    "        \n",
    "print(f'Coefficient of friction: {coefficient_of_friction}')\n",
    "print(f'Acceleration with friction: {accel}')"
   ]
  },
  {
   "cell_type": "markdown",
   "metadata": {},
   "source": [
    "## Prediction"
   ]
  },
  {
   "cell_type": "code",
   "execution_count": 24,
   "metadata": {},
   "outputs": [
    {
     "name": "stdout",
     "output_type": "stream",
     "text": [
      "0.22401+/-0.00023\n"
     ]
    }
   ],
   "source": [
    "pred_mass_1 = ufloat(3.35813, scale)\n",
    "pred_mass_2 = ufloat(0.09, scale)\n",
    "\n",
    "pred_acceleration = acceleration_with_friction(pred_mass_1, pred_mass_2, coefficient_of_friction)\n",
    "\n",
    "print(pred_acceleration)"
   ]
  },
  {
   "cell_type": "code",
   "execution_count": 25,
   "metadata": {},
   "outputs": [
    {
     "name": "stdout",
     "output_type": "stream",
     "text": [
      "Predicted time: 2.9880+/-0.0015\n"
     ]
    }
   ],
   "source": [
    "pred_time = Kinematic.t__displacement_v0_a(displacement, 0, pred_acceleration)\n",
    "print(f'Predicted time: {pred_time}')"
   ]
  },
  {
   "cell_type": "markdown",
   "metadata": {},
   "source": [
    "## Validation"
   ]
  },
  {
   "cell_type": "markdown",
   "metadata": {},
   "source": [
    "We did not measure the final mass that we used in our experiment and that is likely going to throw off our uncertainty error because it's taken as exact."
   ]
  },
  {
   "cell_type": "code",
   "execution_count": 26,
   "metadata": {},
   "outputs": [
    {
     "name": "stdout",
     "output_type": "stream",
     "text": [
      "Average test time: 3.02750+/-0.00005\n"
     ]
    }
   ],
   "source": [
    "test_times = [3.1256, 3.029, 3.0032, 2.9869, 2.9928]\n",
    "\n",
    "average_test_time = ufloat(np.mean(test_times), photogate)\n",
    "print(f'Average test time: {average_test_time}')"
   ]
  },
  {
   "cell_type": "code",
   "execution_count": 27,
   "metadata": {},
   "outputs": [
    {
     "name": "stdout",
     "output_type": "stream",
     "text": [
      "Percent Errort: 1.31+/-0.05%\n"
     ]
    }
   ],
   "source": [
    "valid_percent = 100 - (pred_time / average_test_time * 100)\n",
    "print(f'Percent Errort: {valid_percent:.2f}%')"
   ]
  },
  {
   "cell_type": "code",
   "execution_count": null,
   "metadata": {},
   "outputs": [],
   "source": []
  }
 ],
 "metadata": {
  "kernelspec": {
   "display_name": ".env",
   "language": "python",
   "name": "python3"
  },
  "language_info": {
   "codemirror_mode": {
    "name": "ipython",
    "version": 3
   },
   "file_extension": ".py",
   "mimetype": "text/x-python",
   "name": "python",
   "nbconvert_exporter": "python",
   "pygments_lexer": "ipython3",
   "version": "3.11.5"
  }
 },
 "nbformat": 4,
 "nbformat_minor": 2
}
